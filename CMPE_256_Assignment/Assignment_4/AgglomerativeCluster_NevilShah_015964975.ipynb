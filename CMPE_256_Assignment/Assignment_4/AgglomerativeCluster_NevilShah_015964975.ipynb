{
  "nbformat": 4,
  "nbformat_minor": 0,
  "metadata": {
    "colab": {
      "name": "AgglomerativeCluster_NevilShah_015964975.ipynb",
      "provenance": [],
      "collapsed_sections": []
    },
    "kernelspec": {
      "name": "python3",
      "display_name": "Python 3"
    },
    "language_info": {
      "name": "python"
    }
  },
  "cells": [
    {
      "cell_type": "code",
      "metadata": {
        "id": "rULTxUNzmAgG"
      },
      "source": [
        "import numpy as np\n",
        "from sklearn.cluster import AgglomerativeClustering"
      ],
      "execution_count": null,
      "outputs": []
    },
    {
      "cell_type": "code",
      "metadata": {
        "id": "pfSpBwnjrUR4"
      },
      "source": [
        "X = np.array([[2,2],[2,6],[3,7],[5,8],[6,6],[12,8],[10,6],[5,5],[5,2],[7,3],[8,4]])"
      ],
      "execution_count": null,
      "outputs": []
    },
    {
      "cell_type": "markdown",
      "metadata": {
        "id": "8OEGllMU_-xm"
      },
      "source": [
        "#Plotting the points on a X-Y plane"
      ]
    },
    {
      "cell_type": "code",
      "metadata": {
        "colab": {
          "base_uri": "https://localhost:8080/",
          "height": 441
        },
        "id": "2ycl_DDIrZuu",
        "outputId": "14bae7da-dffd-485b-c518-efd4c2368ad6"
      },
      "source": [
        "import matplotlib.pyplot as plt\n",
        "labels = range(1, 12)  \n",
        "plt.figure(figsize=(10, 7))  \n",
        "plt.subplots_adjust(bottom=0.1)  \n",
        "plt.scatter(X[:,0],X[:,1], label='True Position')\n",
        "for label, x, y in zip(labels, X[:, 0], X[:, 1]):  \n",
        "  plt.annotate(label,xy=(x, y), xytext=(-3, 3),textcoords='offset points', ha='right')\n",
        "plt.show() "
      ],
      "execution_count": null,
      "outputs": [
        {
          "output_type": "display_data",
          "data": {
            "image/png": "[encoded data removed]",
            "text/plain": [
              "<Figure size 720x504 with 1 Axes>"
            ]
          },
          "metadata": {
            "needs_background": "light"
          }
        }
      ]
    },
    {
      "cell_type": "code",
      "metadata": {
        "id": "PULSgHOHs8Jp"
      },
      "source": [
        "from scipy.cluster.hierarchy import dendrogram, linkage  \n",
        "from matplotlib import pyplot as plt"
      ],
      "execution_count": null,
      "outputs": []
    },
    {
      "cell_type": "markdown",
      "metadata": {
        "id": "cTVzzN2OAO79"
      },
      "source": [
        "#Agglomerative clustering using single linkage"
      ]
    },
    {
      "cell_type": "code",
      "metadata": {
        "colab": {
          "base_uri": "https://localhost:8080/",
          "height": 484
        },
        "id": "b55hJB9Zvc1X",
        "outputId": "387ba9ce-3806-4a79-e34c-d5728c6a769d"
      },
      "source": [
        "print (\"\\n single link cluster \\n\")\n",
        "linked = linkage(X, 'single')\n",
        "labelList= range(1, 12)\n",
        "plt.figure(figsize=(10, 7))  \n",
        "dendrogram(linked,  orientation='top',labels=labelList,distance_sort='descending',show_leaf_counts=True)\n",
        "plt.show()  "
      ],
      "execution_count": null,
      "outputs": [
        {
          "output_type": "stream",
          "name": "stdout",
          "text": [
            "\n",
            " single link cluster \n",
            "\n"
          ]
        },
        {
          "output_type": "display_data",
          "data": {
            "image/png": "[encoded data removed]",
            "text/plain": [
              "<Figure size 720x504 with 1 Axes>"
            ]
          },
          "metadata": {
            "needs_background": "light"
          }
        }
      ]
    },
    {
      "cell_type": "code",
      "metadata": {
        "colab": {
          "base_uri": "https://localhost:8080/"
        },
        "id": "Mt7i5SSe6oBe",
        "outputId": "17885c52-2a5e-4197-8f4c-8cea4e288c1f"
      },
      "source": [
        "single1 = AgglomerativeClustering(linkage='single',n_clusters=3).fit(X)\n",
        "single1.labels_"
      ],
      "execution_count": null,
      "outputs": [
        {
          "output_type": "execute_result",
          "data": {
            "text/plain": [
              "array([1, 0, 0, 0, 0, 2, 0, 0, 0, 0, 0])"
            ]
          },
          "metadata": {},
          "execution_count": 21
        }
      ]
    },
    {
      "cell_type": "code",
      "metadata": {
        "id": "CX-ysW7l7cTM"
      },
      "source": [
        "single2 = single1.fit_predict(X)"
      ],
      "execution_count": null,
      "outputs": []
    },
    {
      "cell_type": "code",
      "metadata": {
        "colab": {
          "base_uri": "https://localhost:8080/",
          "height": 282
        },
        "id": "NRL3mbd48lxB",
        "outputId": "35d0d1fe-d66f-4e56-d395-7451c72276e4"
      },
      "source": [
        "plt.scatter(X[single2 ==0,0],X[single2==0,1],s=100,c='green')\n",
        "plt.scatter(X[single2 ==1,0],X[single2==1,1],s=100,c='blue')\n",
        "plt.scatter(X[single2 ==2,0],X[single2==2,1],s=100,c='red')"
      ],
      "execution_count": null,
      "outputs": [
        {
          "output_type": "execute_result",
          "data": {
            "text/plain": [
              "<matplotlib.collections.PathCollection at 0x7f3d1bb23450>"
            ]
          },
          "metadata": {},
          "execution_count": 23
        },
        {
          "output_type": "display_data",
          "data": {
            "image/png": "[encoded data removed]",
            "text/plain": [
              "<Figure size 432x288 with 1 Axes>"
            ]
          },
          "metadata": {
            "needs_background": "light"
          }
        }
      ]
    },
    {
      "cell_type": "markdown",
      "metadata": {
        "id": "3QgzKmBSAWm6"
      },
      "source": [
        "#Agglomerative clustering using complete linkage"
      ]
    },
    {
      "cell_type": "code",
      "metadata": {
        "colab": {
          "base_uri": "https://localhost:8080/",
          "height": 431
        },
        "id": "56cPy5cfvcbm",
        "outputId": "86af401d-3852-46d2-d78f-c183316c930a"
      },
      "source": [
        "linked_complete= linkage(X, 'complete')\n",
        "labelList= range(1, 12)\n",
        "plt.figure(figsize=(10, 7))  \n",
        "dendrogram(linked_complete,  orientation='top',labels=labelList,distance_sort='descending',show_leaf_counts=True)\n",
        "plt.show()  "
      ],
      "execution_count": null,
      "outputs": [
        {
          "output_type": "display_data",
          "data": {
            "image/png": "[encoded data removed]",
            "text/plain": [
              "<Figure size 720x504 with 1 Axes>"
            ]
          },
          "metadata": {
            "needs_background": "light"
          }
        }
      ]
    },
    {
      "cell_type": "code",
      "metadata": {
        "colab": {
          "base_uri": "https://localhost:8080/"
        },
        "id": "2HgZ_O1w-nG4",
        "outputId": "50be0a43-0f44-444e-d4eb-7bc31150446f"
      },
      "source": [
        "c1 = AgglomerativeClustering(linkage='complete',n_clusters=3).fit(X)\n",
        "c1.labels_"
      ],
      "execution_count": null,
      "outputs": [
        {
          "output_type": "execute_result",
          "data": {
            "text/plain": [
              "array([2, 0, 0, 0, 0, 1, 1, 0, 2, 0, 0])"
            ]
          },
          "metadata": {},
          "execution_count": 24
        }
      ]
    },
    {
      "cell_type": "code",
      "metadata": {
        "id": "VzoceyMk-tdw"
      },
      "source": [
        "c2 = c1.fit_predict(X)"
      ],
      "execution_count": null,
      "outputs": []
    },
    {
      "cell_type": "code",
      "metadata": {
        "colab": {
          "base_uri": "https://localhost:8080/",
          "height": 282
        },
        "id": "mUovRu7p-toY",
        "outputId": "1d457975-421a-4515-e4ef-869b140f7b6c"
      },
      "source": [
        "plt.scatter(X[c2 ==0,0],X[c2==0,1],s=100,c='green')\n",
        "plt.scatter(X[c2 ==1,0],X[c2==1,1],s=100,c='blue')\n",
        "plt.scatter(X[c2 ==2,0],X[c2==2,1],s=100,c='red')"
      ],
      "execution_count": null,
      "outputs": [
        {
          "output_type": "execute_result",
          "data": {
            "text/plain": [
              "<matplotlib.collections.PathCollection at 0x7f3d1bb6fd90>"
            ]
          },
          "metadata": {},
          "execution_count": 26
        },
        {
          "output_type": "display_data",
          "data": {
            "image/png": "[encoded data removed]",
            "text/plain": [
              "<Figure size 432x288 with 1 Axes>"
            ]
          },
          "metadata": {
            "needs_background": "light"
          }
        }
      ]
    },
    {
      "cell_type": "markdown",
      "metadata": {
        "id": "MMdIkAn2Acio"
      },
      "source": [
        "#Agglomerative clustering using average linkage"
      ]
    },
    {
      "cell_type": "code",
      "metadata": {
        "colab": {
          "base_uri": "https://localhost:8080/",
          "height": 484
        },
        "id": "S6wg7N5lsti4",
        "outputId": "5af2425c-932d-4b44-a388-37aedb4e01a7"
      },
      "source": [
        "print (\"\\n average link cluster \\n\")\n",
        "linked_average= linkage(X, 'average')\n",
        "labelList= range(1, 12)\n",
        "plt.figure(figsize=(10, 7)) \n",
        "dendrogram(linked_average,  orientation='top',labels=labelList,distance_sort='descending',show_leaf_counts=True)\n",
        "plt.show() "
      ],
      "execution_count": null,
      "outputs": [
        {
          "output_type": "stream",
          "name": "stdout",
          "text": [
            "\n",
            " average link cluster \n",
            "\n"
          ]
        },
        {
          "output_type": "display_data",
          "data": {
            "image/png": "[encoded data removed]",
            "text/plain": [
              "<Figure size 720x504 with 1 Axes>"
            ]
          },
          "metadata": {
            "needs_background": "light"
          }
        }
      ]
    },
    {
      "cell_type": "code",
      "metadata": {
        "colab": {
          "base_uri": "https://localhost:8080/"
        },
        "id": "El5ElEH5_Iv_",
        "outputId": "9ace49f8-6cff-4358-8eef-5908d607ddf6"
      },
      "source": [
        "a1 = AgglomerativeClustering(linkage='average',n_clusters=3).fit(X)\n",
        "a1.labels_"
      ],
      "execution_count": null,
      "outputs": [
        {
          "output_type": "execute_result",
          "data": {
            "text/plain": [
              "array([2, 0, 0, 0, 0, 1, 1, 0, 0, 0, 0])"
            ]
          },
          "metadata": {},
          "execution_count": 28
        }
      ]
    },
    {
      "cell_type": "code",
      "metadata": {
        "id": "Zl9a38W6_I7P"
      },
      "source": [
        "a2 = a1.fit_predict(X)"
      ],
      "execution_count": null,
      "outputs": []
    },
    {
      "cell_type": "code",
      "metadata": {
        "colab": {
          "base_uri": "https://localhost:8080/",
          "height": 282
        },
        "id": "1bgsJsN2_JCy",
        "outputId": "c1f13ba4-21c0-42b6-bc7b-0aa1e1aa213e"
      },
      "source": [
        "plt.scatter(X[a2 ==0,0],X[a2==0,1],s=100,c='green')\n",
        "plt.scatter(X[a2 ==1,0],X[a2==1,1],s=100,c='blue')\n",
        "plt.scatter(X[a2 ==2,0],X[a2==2,1],s=100,c='red')"
      ],
      "execution_count": null,
      "outputs": [
        {
          "output_type": "execute_result",
          "data": {
            "text/plain": [
              "<matplotlib.collections.PathCollection at 0x7f3d1b9d9f90>"
            ]
          },
          "metadata": {},
          "execution_count": 30
        },
        {
          "output_type": "display_data",
          "data": {
            "image/png": "[encoded data removed]",
            "text/plain": [
              "<Figure size 432x288 with 1 Axes>"
            ]
          },
          "metadata": {
            "needs_background": "light"
          }
        }
      ]
    }
  ]
}